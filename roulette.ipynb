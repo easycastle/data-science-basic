{
  "nbformat": 4,
  "nbformat_minor": 0,
  "metadata": {
    "colab": {
      "provenance": [],
      "include_colab_link": true
    },
    "kernelspec": {
      "name": "python3",
      "display_name": "Python 3"
    },
    "language_info": {
      "name": "python"
    }
  },
  "cells": [
    {
      "cell_type": "markdown",
      "metadata": {
        "id": "view-in-github",
        "colab_type": "text"
      },
      "source": [
        "<a href=\"https://colab.research.google.com/github/easycastle/data-science-basic/blob/main/roulette.ipynb\" target=\"_parent\"><img src=\"https://colab.research.google.com/assets/colab-badge.svg\" alt=\"Open In Colab\"/></a>"
      ]
    },
    {
      "cell_type": "code",
      "execution_count": null,
      "metadata": {
        "id": "m5teD8rueUVi"
      },
      "outputs": [],
      "source": [
        "from datascience import *\n",
        "import numpy as np\n",
        "\n",
        "%matplotlib inline\n",
        "import matplotlib.pyplot as plots\n",
        "plots.style.use('fivethirtyeight')"
      ]
    },
    {
      "cell_type": "code",
      "source": [
        "number = np.append( make_array('0', '00'), np.arange(1, 37, 1))\n",
        "number.size"
      ],
      "metadata": {
        "colab": {
          "base_uri": "https://localhost:8080/"
        },
        "id": "2OiiKiv3rd7M",
        "outputId": "ea4a14cf-b517-48f5-b8ab-d9cf6cc33027"
      },
      "execution_count": null,
      "outputs": [
        {
          "output_type": "execute_result",
          "data": {
            "text/plain": [
              "38"
            ]
          },
          "metadata": {},
          "execution_count": 2
        }
      ]
    },
    {
      "cell_type": "code",
      "source": [
        "###\n",
        "color = make_array('green', 'green')\n",
        "for i in range(18):\n",
        "  color = np.append(color, ['red','black'])\n",
        "\n",
        "color"
      ],
      "metadata": {
        "colab": {
          "base_uri": "https://localhost:8080/"
        },
        "id": "SxNlCqRyvXzm",
        "outputId": "3ba83c43-35c2-4d79-e3f1-42fde0945885"
      },
      "execution_count": null,
      "outputs": [
        {
          "output_type": "execute_result",
          "data": {
            "text/plain": [
              "array(['green', 'green', 'red', 'black', 'red', 'black', 'red', 'black',\n",
              "       'red', 'black', 'red', 'black', 'red', 'black', 'red', 'black',\n",
              "       'red', 'black', 'red', 'black', 'red', 'black', 'red', 'black',\n",
              "       'red', 'black', 'red', 'black', 'red', 'black', 'red', 'black',\n",
              "       'red', 'black', 'red', 'black', 'red', 'black'],\n",
              "      dtype='<U5')"
            ]
          },
          "metadata": {},
          "execution_count": 3
        }
      ]
    },
    {
      "cell_type": "code",
      "source": [
        "wheel = Table().with_columns(\n",
        "'Pocket', number,\n",
        "'Color', color\n",
        ")"
      ],
      "metadata": {
        "id": "YtBA2c0Hqz2j"
      },
      "execution_count": null,
      "outputs": []
    },
    {
      "cell_type": "code",
      "source": [
        "def red_winnings(color):\n",
        "  if color == 'red':\n",
        "    return 1\n",
        "  else:\n",
        "    return -1"
      ],
      "metadata": {
        "id": "EbaiSW7I1_5a"
      },
      "execution_count": null,
      "outputs": []
    },
    {
      "cell_type": "code",
      "source": [
        "####\n",
        "wheel.apply(red_winnings, 'Color')"
      ],
      "metadata": {
        "colab": {
          "base_uri": "https://localhost:8080/"
        },
        "id": "_vgWlSLy5mIm",
        "outputId": "798b082b-159a-434a-d53e-53f1ec1dc70f"
      },
      "execution_count": null,
      "outputs": [
        {
          "output_type": "execute_result",
          "data": {
            "text/plain": [
              "array([-1, -1,  1, -1,  1, -1,  1, -1,  1, -1,  1, -1,  1, -1,  1, -1,  1,\n",
              "       -1,  1, -1,  1, -1,  1, -1,  1, -1,  1, -1,  1, -1,  1, -1,  1, -1,\n",
              "        1, -1,  1, -1])"
            ]
          },
          "metadata": {},
          "execution_count": 6
        }
      ]
    },
    {
      "cell_type": "code",
      "source": [
        "bets = wheel.with_column(\n",
        "'Winnings: Red', wheel.apply(red_winnings, 'Color')\n",
        ")\n",
        "bets"
      ],
      "metadata": {
        "colab": {
          "base_uri": "https://localhost:8080/",
          "height": 392
        },
        "id": "SzXM5FDQ2LKq",
        "outputId": "b46b9dcb-26b3-4d11-80da-a18ff1d9f934"
      },
      "execution_count": null,
      "outputs": [
        {
          "output_type": "execute_result",
          "data": {
            "text/plain": [
              "Pocket | Color | Winnings: Red\n",
              "0      | green | -1\n",
              "00     | green | -1\n",
              "1      | red   | 1\n",
              "2      | black | -1\n",
              "3      | red   | 1\n",
              "4      | black | -1\n",
              "5      | red   | 1\n",
              "6      | black | -1\n",
              "7      | red   | 1\n",
              "8      | black | -1\n",
              "... (28 rows omitted)"
            ],
            "text/html": [
              "<table border=\"1\" class=\"dataframe\">\n",
              "    <thead>\n",
              "        <tr>\n",
              "            <th>Pocket</th> <th>Color</th> <th>Winnings: Red</th>\n",
              "        </tr>\n",
              "    </thead>\n",
              "    <tbody>\n",
              "        <tr>\n",
              "            <td>0     </td> <td>green</td> <td>-1           </td>\n",
              "        </tr>\n",
              "        <tr>\n",
              "            <td>00    </td> <td>green</td> <td>-1           </td>\n",
              "        </tr>\n",
              "        <tr>\n",
              "            <td>1     </td> <td>red  </td> <td>1            </td>\n",
              "        </tr>\n",
              "        <tr>\n",
              "            <td>2     </td> <td>black</td> <td>-1           </td>\n",
              "        </tr>\n",
              "        <tr>\n",
              "            <td>3     </td> <td>red  </td> <td>1            </td>\n",
              "        </tr>\n",
              "        <tr>\n",
              "            <td>4     </td> <td>black</td> <td>-1           </td>\n",
              "        </tr>\n",
              "        <tr>\n",
              "            <td>5     </td> <td>red  </td> <td>1            </td>\n",
              "        </tr>\n",
              "        <tr>\n",
              "            <td>6     </td> <td>black</td> <td>-1           </td>\n",
              "        </tr>\n",
              "        <tr>\n",
              "            <td>7     </td> <td>red  </td> <td>1            </td>\n",
              "        </tr>\n",
              "        <tr>\n",
              "            <td>8     </td> <td>black</td> <td>-1           </td>\n",
              "        </tr>\n",
              "    </tbody>\n",
              "</table>\n",
              "<p>... (28 rows omitted)</p>"
            ]
          },
          "metadata": {},
          "execution_count": 7
        }
      ]
    },
    {
      "cell_type": "code",
      "source": [
        "one_spin = bets.sample(3)\n",
        "one_spin"
      ],
      "metadata": {
        "colab": {
          "base_uri": "https://localhost:8080/",
          "height": 143
        },
        "id": "QSdhgcsF2XNc",
        "outputId": "a6893f9d-b172-40ce-c531-6ecdf569f957"
      },
      "execution_count": null,
      "outputs": [
        {
          "output_type": "execute_result",
          "data": {
            "text/plain": [
              "Pocket | Color | Winnings: Red\n",
              "8      | black | -1\n",
              "29     | red   | 1\n",
              "36     | black | -1"
            ],
            "text/html": [
              "<table border=\"1\" class=\"dataframe\">\n",
              "    <thead>\n",
              "        <tr>\n",
              "            <th>Pocket</th> <th>Color</th> <th>Winnings: Red</th>\n",
              "        </tr>\n",
              "    </thead>\n",
              "    <tbody>\n",
              "        <tr>\n",
              "            <td>8     </td> <td>black</td> <td>-1           </td>\n",
              "        </tr>\n",
              "        <tr>\n",
              "            <td>29    </td> <td>red  </td> <td>1            </td>\n",
              "        </tr>\n",
              "        <tr>\n",
              "            <td>36    </td> <td>black</td> <td>-1           </td>\n",
              "        </tr>\n",
              "    </tbody>\n",
              "</table>"
            ]
          },
          "metadata": {},
          "execution_count": 8
        }
      ]
    },
    {
      "cell_type": "code",
      "source": [
        "spin = bets.sample(10)\n",
        "spin.column(\"Color\").item(0)\n"
      ],
      "metadata": {
        "colab": {
          "base_uri": "https://localhost:8080/",
          "height": 35
        },
        "id": "dv_nly_37q5Y",
        "outputId": "f3f2f151-a558-44e0-8cec-ac4a49e616d7"
      },
      "execution_count": null,
      "outputs": [
        {
          "output_type": "execute_result",
          "data": {
            "text/plain": [
              "'red'"
            ],
            "application/vnd.google.colaboratory.intrinsic+json": {
              "type": "string"
            }
          },
          "metadata": {},
          "execution_count": 9
        }
      ]
    },
    {
      "cell_type": "code",
      "source": [
        "ar = ['red','red','red','black','black','black','green','green']\n",
        "#Table().with_column('Color', ar).group('Color').barh('Color')\n",
        "Table().with_column('Color', ar).group('Color')"
      ],
      "metadata": {
        "colab": {
          "base_uri": "https://localhost:8080/",
          "height": 143
        },
        "id": "XgJZNPEZjCin",
        "outputId": "226dddf9-4068-4b51-fcee-39315fb3ec9a"
      },
      "execution_count": null,
      "outputs": [
        {
          "output_type": "execute_result",
          "data": {
            "text/plain": [
              "Color | count\n",
              "black | 3\n",
              "green | 2\n",
              "red   | 3"
            ],
            "text/html": [
              "<table border=\"1\" class=\"dataframe\">\n",
              "    <thead>\n",
              "        <tr>\n",
              "            <th>Color</th> <th>count</th>\n",
              "        </tr>\n",
              "    </thead>\n",
              "    <tbody>\n",
              "        <tr>\n",
              "            <td>black</td> <td>3    </td>\n",
              "        </tr>\n",
              "        <tr>\n",
              "            <td>green</td> <td>2    </td>\n",
              "        </tr>\n",
              "        <tr>\n",
              "            <td>red  </td> <td>3    </td>\n",
              "        </tr>\n",
              "    </tbody>\n",
              "</table>"
            ]
          },
          "metadata": {},
          "execution_count": 3
        }
      ]
    },
    {
      "cell_type": "code",
      "source": [
        "#Table().with_column('Winnings: Red', winnings_on_red).group('Winnings: Red').barh('Winnings: Red')"
      ],
      "metadata": {
        "id": "PxY385Q7kDWk"
      },
      "execution_count": null,
      "outputs": []
    },
    {
      "cell_type": "code",
      "source": [
        "num_simulations = 5000\n",
        "colors = make_array()\n",
        "winnings_on_red = make_array()\n",
        "for i in np.arange(num_simulations):\n",
        "  spin = bets.sample(1)\n",
        "  new_color = spin.column(\"Color\").item(0)\n",
        "  colors = np.append(colors, new_color)\n",
        "  new_winnings = spin.column('Winnings: Red')\n",
        "  winnings_on_red = np.append(winnings_on_red, new_winnings)\n",
        "\n",
        "\n",
        "Table().with_column('Color', colors).group('Color').barh('Color')"
      ],
      "metadata": {
        "colab": {
          "base_uri": "https://localhost:8080/",
          "height": 410
        },
        "id": "SM_7F_cC2duD",
        "outputId": "8cc0186e-86a7-4dbc-c285-d9e7ca1177ed"
      },
      "execution_count": null,
      "outputs": [
        {
          "output_type": "display_data",
          "data": {
            "text/plain": [
              "<Figure size 600x400 with 1 Axes>"
            ],
            "image/png": "[encoded data removed]"
          },
          "metadata": {}
        }
      ]
    },
    {
      "cell_type": "code",
      "source": [
        "Table().with_column('Winnings: Red', winnings_on_red).hist(bins = np.arange(-1.55, 1.65, .1))\n",
        "#Table().with_column('Winnings: Red', winnings_on_red).hist()"
      ],
      "metadata": {
        "colab": {
          "base_uri": "https://localhost:8080/",
          "height": 410
        },
        "id": "EbKeA10O24Ai",
        "outputId": "ea5cb1fa-aeb9-4370-94ae-be05721a317c"
      },
      "execution_count": null,
      "outputs": [
        {
          "output_type": "display_data",
          "data": {
            "text/plain": [
              "<Figure size 600x400 with 1 Axes>"
            ],
            "image/png": "[encoded data removed]"
          },
          "metadata": {}
        }
      ]
    },
    {
      "cell_type": "code",
      "source": [
        "spins = bets.sample(200)\n",
        "spins.column('Winnings: Red').sum()"
      ],
      "metadata": {
        "colab": {
          "base_uri": "https://localhost:8080/"
        },
        "id": "kbxm4lDH27xS",
        "outputId": "2539e1a0-1d6a-4f5d-de87-eee313d404ee"
      },
      "execution_count": null,
      "outputs": [
        {
          "output_type": "execute_result",
          "data": {
            "text/plain": [
              "-32"
            ]
          },
          "metadata": {},
          "execution_count": 14
        }
      ]
    },
    {
      "cell_type": "code",
      "source": [
        "num_spins = 200\n",
        "net_gain = make_array()\n",
        "for i in np.arange(num_simulations):\n",
        "  spins = bets.sample(num_spins)\n",
        "  new_net_gain = spins.column('Winnings: Red').sum()\n",
        "  net_gain = np.append(net_gain, new_net_gain)\n",
        "\n",
        "Table().with_column('Net Gain on Red', net_gain).hist()"
      ],
      "metadata": {
        "colab": {
          "base_uri": "https://localhost:8080/",
          "height": 410
        },
        "id": "KDVsGX343DZi",
        "outputId": "91a71fd1-ca9a-4208-c029-60bac419be4f"
      },
      "execution_count": null,
      "outputs": [
        {
          "output_type": "display_data",
          "data": {
            "text/plain": [
              "<Figure size 600x400 with 1 Axes>"
            ],
            "image/png": "[encoded data removed]"
          },
          "metadata": {}
        }
      ]
    },
    {
      "cell_type": "code",
      "source": [
        "def split_winnings(pocket):\n",
        "  if pocket == '0':\n",
        "    return 17\n",
        "  elif pocket == '00':\n",
        "    return 17\n",
        "  else:\n",
        "    return -1"
      ],
      "metadata": {
        "id": "047Eu3hA3LS6"
      },
      "execution_count": null,
      "outputs": []
    },
    {
      "cell_type": "code",
      "source": [
        "more_bets = wheel.with_columns(\n",
        "'Winnings: Red', wheel.apply(red_winnings, 'Color'),\n",
        "'Winnings: Split', wheel.apply(split_winnings, 'Pocket')\n",
        ")\n",
        "more_bets"
      ],
      "metadata": {
        "colab": {
          "base_uri": "https://localhost:8080/",
          "height": 392
        },
        "id": "7DyIzuxF3T59",
        "outputId": "afb3b58c-86ec-4d77-8eb5-8ab1e9b2881d"
      },
      "execution_count": null,
      "outputs": [
        {
          "output_type": "execute_result",
          "data": {
            "text/plain": [
              "Pocket | Color | Winnings: Red | Winnings: Split\n",
              "0      | green | -1            | 17\n",
              "00     | green | -1            | 17\n",
              "1      | red   | 1             | -1\n",
              "2      | black | -1            | -1\n",
              "3      | red   | 1             | -1\n",
              "4      | black | -1            | -1\n",
              "5      | red   | 1             | -1\n",
              "6      | black | -1            | -1\n",
              "7      | red   | 1             | -1\n",
              "8      | black | -1            | -1\n",
              "... (28 rows omitted)"
            ],
            "text/html": [
              "<table border=\"1\" class=\"dataframe\">\n",
              "    <thead>\n",
              "        <tr>\n",
              "            <th>Pocket</th> <th>Color</th> <th>Winnings: Red</th> <th>Winnings: Split</th>\n",
              "        </tr>\n",
              "    </thead>\n",
              "    <tbody>\n",
              "        <tr>\n",
              "            <td>0     </td> <td>green</td> <td>-1           </td> <td>17             </td>\n",
              "        </tr>\n",
              "        <tr>\n",
              "            <td>00    </td> <td>green</td> <td>-1           </td> <td>17             </td>\n",
              "        </tr>\n",
              "        <tr>\n",
              "            <td>1     </td> <td>red  </td> <td>1            </td> <td>-1             </td>\n",
              "        </tr>\n",
              "        <tr>\n",
              "            <td>2     </td> <td>black</td> <td>-1           </td> <td>-1             </td>\n",
              "        </tr>\n",
              "        <tr>\n",
              "            <td>3     </td> <td>red  </td> <td>1            </td> <td>-1             </td>\n",
              "        </tr>\n",
              "        <tr>\n",
              "            <td>4     </td> <td>black</td> <td>-1           </td> <td>-1             </td>\n",
              "        </tr>\n",
              "        <tr>\n",
              "            <td>5     </td> <td>red  </td> <td>1            </td> <td>-1             </td>\n",
              "        </tr>\n",
              "        <tr>\n",
              "            <td>6     </td> <td>black</td> <td>-1           </td> <td>-1             </td>\n",
              "        </tr>\n",
              "        <tr>\n",
              "            <td>7     </td> <td>red  </td> <td>1            </td> <td>-1             </td>\n",
              "        </tr>\n",
              "        <tr>\n",
              "            <td>8     </td> <td>black</td> <td>-1           </td> <td>-1             </td>\n",
              "        </tr>\n",
              "    </tbody>\n",
              "</table>\n",
              "<p>... (28 rows omitted)</p>"
            ]
          },
          "metadata": {},
          "execution_count": 17
        }
      ]
    },
    {
      "cell_type": "code",
      "source": [
        "net_gain_red = make_array()\n",
        "net_gain_split = make_array()\n",
        "for i in np.arange(num_simulations):\n",
        "  spins = more_bets.sample(num_spins)\n",
        "  new_net_gain_red = spins.column('Winnings: Red').sum()\n",
        "  net_gain_red = np.append(net_gain_red, new_net_gain_red)\n",
        "  new_net_gain_split = spins.column('Winnings: Split').sum()\n",
        "  net_gain_split = np.append(net_gain_split, new_net_gain_split)\n",
        "\n",
        "Table().with_columns(\n",
        "'Net Gain on Red', net_gain_red,\n",
        "'Net Gain on Split', net_gain_split\n",
        ").hist(bins=np.arange(-200, 200, 20))"
      ],
      "metadata": {
        "colab": {
          "base_uri": "https://localhost:8080/",
          "height": 384
        },
        "id": "xB3Z14BF3YL7",
        "outputId": "b0d938f1-0a31-4774-860d-f6fffbbff385"
      },
      "execution_count": null,
      "outputs": [
        {
          "output_type": "display_data",
          "data": {
            "text/plain": [
              "<Figure size 600x400 with 1 Axes>"
            ],
            "image/png": "[encoded data removed]"
          },
          "metadata": {}
        }
      ]
    },
    {
      "cell_type": "markdown",
      "source": [
        "#로또 추첨 시뮬레이션\n",
        "\n",
        "우리나라에서 매주 판매되는 로또는 평균 몇장일까요?\n",
        "가장 많이 판매되었던 주(week)와 가장 적게 판매되었던 주(week)에는 몇장이 판매되었을까요?\n",
        "로또 추첨 결과 매주 1등 당첨자가 다수 나오고 있습니다.\n",
        "이런 당첨 확률이 과연 타당한 것일까요?\n",
        "\n",
        "자!~~~~ 이 질문에 대해 데이터과학의 관점에서 한번 분석을 해 봅시다.\n",
        "\n",
        "그래서, 로또 시뮬레이션을 해봅시다.\n",
        "\n",
        "**어떻게 프로그램을 구성하는 것이 타당할까를 먼저 구상해서 아이디어를 제시**해 봅시다."
      ],
      "metadata": {
        "id": "nomHI0pfshG1"
      }
    },
    {
      "cell_type": "markdown",
      "source": [
        "**참고로 로또는 45개 숫자중 순서에 관계없이 6개 숫자가 일치하면 1등으로 당첨된다.**"
      ],
      "metadata": {
        "id": "O5A8yBPZsAcU"
      }
    },
    {
      "cell_type": "markdown",
      "source": [
        "![image.png](data:image/png;base64,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)"
      ],
      "metadata": {
        "id": "Cpoix2F_sW8c"
      }
    },
    {
      "cell_type": "markdown",
      "source": [
        "위 식을 계산하면"
      ],
      "metadata": {
        "id": "g4IBdZ52sqKz"
      }
    },
    {
      "cell_type": "markdown",
      "source": [
        "![image.png](data:image/png;base64,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)\n",
        "\n",
        "이 나온다.!"
      ],
      "metadata": {
        "id": "eIK0-kfOsYWD"
      }
    },
    {
      "cell_type": "markdown",
      "source": [
        "실제로 우리 국민들이 매주 즐겨하는 로또의 경우, 지난해 하루평균 130억 원치 팔렸다는 조사도 나왔다. 기획재정부가 14일 밝힌 자료에 의하면 로또의 판매량은 하루 평균 1,297만여 건으로, 금액으로 환산하면 총 130억 원이나 된다\n"
      ],
      "metadata": {
        "id": "pJDdmTJ1vfKJ"
      }
    },
    {
      "cell_type": "markdown",
      "source": [
        "2018년 109억원, 2019년 118억원으로 일평균 판매액은 계속 증가했다. 그러다가 지난해 크리스마스 연휴가 있는 943회차(12월20~26일·잠정치)에서 전체 판매액은 1001억원이었고, 판매량은 1억8만1432건이었다. 온라인복권(로또) 주간 판매액이 9년 만에 1000억원을 넘어선 것이다. 가장 최근 기록은 2011년 10월(1268억원)이다.\n",
        "\n",
        "2021.01.14 기사\n",
        "\n",
        "출처 : 중앙뉴스(http://www.ejanews.co.kr)"
      ],
      "metadata": {
        "id": "k5Y_i7iQwdJL"
      }
    }
  ]
}